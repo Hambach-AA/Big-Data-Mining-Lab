{
  "cells": [
    {
      "cell_type": "markdown",
      "metadata": {
        "id": "view-in-github",
        "colab_type": "text"
      },
      "source": [
        "<a href=\"https://colab.research.google.com/github/Hambach-AA/Big-Data-Mining-Lab/blob/main/Lab_7_IABD.ipynb\" target=\"_parent\"><img src=\"https://colab.research.google.com/assets/colab-badge.svg\" alt=\"Open In Colab\"/></a>"
      ]
    },
    {
      "cell_type": "code",
      "execution_count": 1,
      "metadata": {
        "id": "zcXRioHCqsqH"
      },
      "outputs": [],
      "source": [
        "import pandas as pd\n",
        "import matplotlib.pyplot as plt\n",
        "import pylab\n",
        "import numpy as np\n",
        "from sklearn.model_selection import train_test_split\n",
        "from sklearn.ensemble import GradientBoostingClassifier\n",
        "from sklearn import tree\n",
        "import matplotlib.pyplot as plt\n",
        "from sklearn.metrics import f1_score, accuracy_score, precision_score, recall_score"
      ]
    },
    {
      "cell_type": "code",
      "execution_count": 2,
      "metadata": {
        "colab": {
          "base_uri": "https://localhost:8080/"
        },
        "id": "cr4lsJvJuDtr",
        "outputId": "782371d7-bc54-43e5-cd8b-ed3a9986dc30"
      },
      "outputs": [
        {
          "output_type": "execute_result",
          "data": {
            "text/plain": [
              "(72, 9)"
            ]
          },
          "metadata": {},
          "execution_count": 2
        }
      ],
      "source": [
        "df = pd.read_csv(\"grades.csv\")\n",
        "df.head()\n",
        "df.shape"
      ]
    },
    {
      "cell_type": "code",
      "execution_count": 3,
      "metadata": {
        "colab": {
          "base_uri": "https://localhost:8080/"
        },
        "id": "qh23U-Dhwepj",
        "outputId": "4df4152c-9d8f-42d4-8c91-d1e4dc34cb4b"
      },
      "outputs": [
        {
          "output_type": "execute_result",
          "data": {
            "text/plain": [
              "PUPIL_SEX        0\n",
              "PUPIL_CLASS      0\n",
              "TEACHER_RIGHT    0\n",
              "TEACHER_CHK      0\n",
              "TEACHER_QUEST    0\n",
              "TEACHER_CORR     0\n",
              "PUPIL_CORR       0\n",
              "PUPIL_STRIP      0\n",
              "GRADE            0\n",
              "dtype: int64"
            ]
          },
          "metadata": {},
          "execution_count": 3
        }
      ],
      "source": [
        "df.isnull().sum()"
      ]
    },
    {
      "cell_type": "code",
      "execution_count": 4,
      "metadata": {
        "id": "f4Ovjqu9wjoL"
      },
      "outputs": [],
      "source": [
        "df['PUPIL_SEX'] = df['PUPIL_SEX'].replace(['M','F'],['0','1'])\n",
        "df['PUPIL_CLASS'] = df['PUPIL_CLASS'].replace(['8A','8B'],['0','1'])\n",
        "\n",
        "X = df[[\"PUPIL_SEX\",\"PUPIL_CLASS\",\"TEACHER_RIGHT\", \"TEACHER_CHK\", \"TEACHER_QUEST\", \"TEACHER_CORR\", \"PUPIL_CORR\", \"PUPIL_STRIP\"]]\n",
        "Y = df.GRADE\n",
        "\n",
        "f1 = []\n",
        "accur = []\n",
        "precis = []\n",
        "rec = []"
      ]
    },
    {
      "cell_type": "code",
      "execution_count": 5,
      "metadata": {
        "colab": {
          "base_uri": "https://localhost:8080/"
        },
        "id": "xM2Na236xHHT",
        "outputId": "433b2007-ef33-473d-86aa-7560f53e3a7f"
      },
      "outputs": [
        {
          "output_type": "stream",
          "name": "stdout",
          "text": [
            "F-мера :  0.656673085901027\n",
            "Аккуратность :  0.7222222222222222\n",
            "Точность :  0.6805555555555556\n",
            "Полнота :  0.6481150793650794\n"
          ]
        }
      ],
      "source": [
        "X_train, X_test, y_train, y_test = train_test_split(X, Y, test_size = 0.5, train_size = 0.5)\n",
        "clf = GradientBoostingClassifier(n_estimators=50)\n",
        "clf.fit(X_train, y_train)\n",
        "y_pred = clf.predict(X_test)\n",
        "\n",
        "f1.append(float(f1_score(y_test, y_pred,average='macro')))\n",
        "accur.append(float(accuracy_score(y_test, y_pred)))\n",
        "precis.append(float(precision_score(y_test, y_pred, average='macro')))\n",
        "rec.append(float(recall_score(y_test, y_pred, average='macro')))\n",
        "print(\"F-мера : \" , f1_score(y_test, y_pred,average='macro'))\n",
        "print(\"Аккуратность : \" , accuracy_score(y_test, y_pred))\n",
        "print(\"Точность : \" , precision_score(y_test, y_pred, average='macro'))\n",
        "print(\"Полнота : \" , recall_score(y_test, y_pred,average='macro'))"
      ]
    },
    {
      "cell_type": "code",
      "execution_count": 6,
      "metadata": {
        "colab": {
          "base_uri": "https://localhost:8080/"
        },
        "id": "E-Npw1mFDO8w",
        "outputId": "71350598-f705-4b28-def6-0f4db4324a3c"
      },
      "outputs": [
        {
          "output_type": "stream",
          "name": "stdout",
          "text": [
            "F-мера :  0.7363624937154349\n",
            "Аккуратность :  0.75\n",
            "Точность :  0.8059440559440559\n",
            "Полнота :  0.7391774891774892\n"
          ]
        }
      ],
      "source": [
        "X_train, X_test, y_train, y_test = train_test_split(X, Y, test_size = 0.5, train_size = 0.5)\n",
        "clf = GradientBoostingClassifier(n_estimators=60)\n",
        "clf.fit(X_train, y_train)\n",
        "y_pred = clf.predict(X_test)\n",
        "\n",
        "f1.append(float(f1_score(y_test, y_pred,average='macro')))\n",
        "accur.append(float(accuracy_score(y_test, y_pred)))\n",
        "precis.append(float(precision_score(y_test, y_pred, average='macro')))\n",
        "rec.append(float(recall_score(y_test, y_pred, average='macro')))\n",
        "print(\"F-мера : \" , f1_score(y_test, y_pred,average='macro'))\n",
        "print(\"Аккуратность : \" , accuracy_score(y_test, y_pred))\n",
        "print(\"Точность : \" , precision_score(y_test, y_pred, average='macro'))\n",
        "print(\"Полнота : \" , recall_score(y_test, y_pred,average='macro'))"
      ]
    },
    {
      "cell_type": "code",
      "execution_count": 7,
      "metadata": {
        "colab": {
          "base_uri": "https://localhost:8080/"
        },
        "id": "gA0mMjd1DrQw",
        "outputId": "37522fd0-a7ab-40f0-b83d-9993e2ada781"
      },
      "outputs": [
        {
          "output_type": "stream",
          "name": "stdout",
          "text": [
            "F-мера :  0.5402941176470588\n",
            "Аккуратность :  0.5833333333333334\n",
            "Точность :  0.4786324786324786\n",
            "Полнота :  0.6875\n"
          ]
        }
      ],
      "source": [
        "X_train, X_test, y_train, y_test = train_test_split(X, Y, test_size = 0.5, train_size = 0.5)\n",
        "clf = GradientBoostingClassifier(n_estimators=70)\n",
        "clf.fit(X_train, y_train)\n",
        "y_pred = clf.predict(X_test)\n",
        "\n",
        "f1.append(float(f1_score(y_test, y_pred,average='macro')))\n",
        "accur.append(float(accuracy_score(y_test, y_pred)))\n",
        "precis.append(float(precision_score(y_test, y_pred, average='macro')))\n",
        "rec.append(float(recall_score(y_test, y_pred, average='macro')))\n",
        "print(\"F-мера : \" , f1_score(y_test, y_pred,average='macro'))\n",
        "print(\"Аккуратность : \" , accuracy_score(y_test, y_pred))\n",
        "print(\"Точность : \" , precision_score(y_test, y_pred, average='macro'))\n",
        "print(\"Полнота : \" , recall_score(y_test, y_pred,average='macro'))"
      ]
    },
    {
      "cell_type": "code",
      "execution_count": 8,
      "metadata": {
        "colab": {
          "base_uri": "https://localhost:8080/"
        },
        "id": "QmNQRnWMDuOu",
        "outputId": "259a216e-4b44-4cc8-eaa5-12b09d8214ee"
      },
      "outputs": [
        {
          "output_type": "stream",
          "name": "stdout",
          "text": [
            "F-мера :  0.6628899835796388\n",
            "Аккуратность :  0.6944444444444444\n",
            "Точность :  0.6979166666666666\n",
            "Полнота :  0.6476648351648352\n"
          ]
        }
      ],
      "source": [
        "X_train, X_test, y_train, y_test = train_test_split(X, Y, test_size = 0.5, train_size = 0.5)\n",
        "clf = GradientBoostingClassifier(n_estimators=80)\n",
        "clf.fit(X_train, y_train)\n",
        "y_pred = clf.predict(X_test)\n",
        "\n",
        "f1.append(float(f1_score(y_test, y_pred,average='macro')))\n",
        "accur.append(float(accuracy_score(y_test, y_pred)))\n",
        "precis.append(float(precision_score(y_test, y_pred, average='macro')))\n",
        "rec.append(float(recall_score(y_test, y_pred, average='macro')))\n",
        "print(\"F-мера : \" , f1_score(y_test, y_pred,average='macro'))\n",
        "print(\"Аккуратность : \" , accuracy_score(y_test, y_pred))\n",
        "print(\"Точность : \" , precision_score(y_test, y_pred, average='macro'))\n",
        "print(\"Полнота : \" , recall_score(y_test, y_pred,average='macro'))"
      ]
    },
    {
      "cell_type": "code",
      "source": [
        "X_train, X_test, y_train, y_test = train_test_split(X, Y, test_size = 0.5, train_size = 0.5)\n",
        "clf = GradientBoostingClassifier(n_estimators=90)\n",
        "clf.fit(X_train, y_train)\n",
        "y_pred = clf.predict(X_test)\n",
        "\n",
        "f1.append(float(f1_score(y_test, y_pred,average='macro')))\n",
        "accur.append(float(accuracy_score(y_test, y_pred)))\n",
        "precis.append(float(precision_score(y_test, y_pred, average='macro')))\n",
        "rec.append(float(recall_score(y_test, y_pred, average='macro')))\n",
        "print(\"F-мера : \" , f1_score(y_test, y_pred,average='macro'))\n",
        "print(\"Аккуратность : \" , accuracy_score(y_test, y_pred))\n",
        "print(\"Точность : \" , precision_score(y_test, y_pred, average='macro'))\n",
        "print(\"Полнота : \" , recall_score(y_test, y_pred,average='macro'))"
      ],
      "metadata": {
        "colab": {
          "base_uri": "https://localhost:8080/"
        },
        "id": "tS4yhtJvAPrC",
        "outputId": "7c6decde-a841-489c-80ca-f4fe6ad36e04"
      },
      "execution_count": 9,
      "outputs": [
        {
          "output_type": "stream",
          "name": "stdout",
          "text": [
            "F-мера :  0.6330532212885154\n",
            "Аккуратность :  0.6388888888888888\n",
            "Точность :  0.6270833333333333\n",
            "Полнота :  0.6761904761904762\n"
          ]
        }
      ]
    },
    {
      "cell_type": "code",
      "execution_count": 10,
      "metadata": {
        "colab": {
          "base_uri": "https://localhost:8080/",
          "height": 850
        },
        "id": "WfK4ZUUkD5KP",
        "outputId": "ca456208-21f3-4c35-f6e6-759ee85048ec"
      },
      "outputs": [
        {
          "output_type": "display_data",
          "data": {
            "text/plain": [
              "<Figure size 1000x1000 with 4 Axes>"
            ],
            "image/png": "[encoded data removed]"
          },
          "metadata": {}
        }
      ],
      "source": [
        "names = [\"50\", \"60\", \"70\", \"80\", \"90\"]\n",
        "\n",
        "pylab.figure(figsize=(10, 10))\n",
        "\n",
        "pylab.subplot (2, 2, 1)\n",
        "\n",
        "pylab.bar(names, f1)\n",
        "pylab.xlabel(\"Количество Ансамблей\")\n",
        "pylab.ylabel(\"F-мера\")\n",
        "\n",
        "pylab.subplot (2, 2, 2)\n",
        "\n",
        "pylab.bar(names, accur)\n",
        "pylab.xlabel(\"Количество Ансамблей\")\n",
        "pylab.ylabel(\"Аккуратность\")\n",
        "\n",
        "pylab.subplot (2, 2, 3)\n",
        "\n",
        "pylab.bar(names, precis)\n",
        "pylab.xlabel(\"Количество Ансамблей\")\n",
        "pylab.ylabel(\"Точность\")\n",
        "\n",
        "pylab.subplot (2, 2, 4)\n",
        "\n",
        "pylab.bar(names, rec)\n",
        "pylab.xlabel(\"Количество Ансамблей\")\n",
        "pylab.ylabel(\"Полнота\")\n",
        "\n",
        "pylab.show()"
      ]
    }
  ],
  "metadata": {
    "colab": {
      "provenance": [],
      "include_colab_link": true
    },
    "kernelspec": {
      "display_name": "Python 3 (ipykernel)",
      "language": "python",
      "name": "python3"
    },
    "language_info": {
      "codemirror_mode": {
        "name": "ipython",
        "version": 3
      },
      "file_extension": ".py",
      "mimetype": "text/x-python",
      "name": "python",
      "nbconvert_exporter": "python",
      "pygments_lexer": "ipython3",
      "version": "3.11.1"
    }
  },
  "nbformat": 4,
  "nbformat_minor": 0
}