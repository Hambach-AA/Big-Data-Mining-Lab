{
  "cells": [
    {
      "cell_type": "markdown",
      "metadata": {
        "id": "view-in-github",
        "colab_type": "text"
      },
      "source": [
        "<a href=\"https://colab.research.google.com/github/Hambach-AA/Big-Data-Mining-Lab/blob/main/Lab_6_IABD.ipynb\" target=\"_parent\"><img src=\"https://colab.research.google.com/assets/colab-badge.svg\" alt=\"Open In Colab\"/></a>"
      ]
    },
    {
      "cell_type": "code",
      "execution_count": 7,
      "metadata": {
        "id": "zcXRioHCqsqH"
      },
      "outputs": [],
      "source": [
        "import pandas as pd\n",
        "import matplotlib.pyplot as plt\n",
        "import pylab\n",
        "import numpy as np\n",
        "from sklearn.model_selection import train_test_split\n",
        "from sklearn.ensemble import RandomForestClassifier\n",
        "import matplotlib.pyplot as plt\n",
        "from sklearn.metrics import f1_score, accuracy_score, precision_score, recall_score"
      ]
    },
    {
      "cell_type": "code",
      "execution_count": 8,
      "metadata": {
        "colab": {
          "base_uri": "https://localhost:8080/"
        },
        "id": "cr4lsJvJuDtr",
        "outputId": "f615a20e-1822-4822-f14e-66be4bb40c97"
      },
      "outputs": [
        {
          "output_type": "execute_result",
          "data": {
            "text/plain": [
              "(72, 9)"
            ]
          },
          "metadata": {},
          "execution_count": 8
        }
      ],
      "source": [
        "df = pd.read_csv(\"grades.csv\")\n",
        "df.head()\n",
        "df.shape"
      ]
    },
    {
      "cell_type": "code",
      "execution_count": 9,
      "metadata": {
        "colab": {
          "base_uri": "https://localhost:8080/"
        },
        "id": "qh23U-Dhwepj",
        "outputId": "2e005dd3-2a03-4411-8a41-8d19a6e22690"
      },
      "outputs": [
        {
          "output_type": "execute_result",
          "data": {
            "text/plain": [
              "PUPIL_SEX        0\n",
              "PUPIL_CLASS      0\n",
              "TEACHER_RIGHT    0\n",
              "TEACHER_CHK      0\n",
              "TEACHER_QUEST    0\n",
              "TEACHER_CORR     0\n",
              "PUPIL_CORR       0\n",
              "PUPIL_STRIP      0\n",
              "GRADE            0\n",
              "dtype: int64"
            ]
          },
          "metadata": {},
          "execution_count": 9
        }
      ],
      "source": [
        "df.isnull().sum()"
      ]
    },
    {
      "cell_type": "code",
      "execution_count": 10,
      "metadata": {
        "id": "f4Ovjqu9wjoL"
      },
      "outputs": [],
      "source": [
        "df['PUPIL_SEX'] = df['PUPIL_SEX'].replace(['M','F'],['0','1'])\n",
        "df['PUPIL_CLASS'] = df['PUPIL_CLASS'].replace(['8A','8B'],['0','1'])\n",
        "\n",
        "X = df[[\"PUPIL_SEX\",\"PUPIL_CLASS\",\"TEACHER_RIGHT\", \"TEACHER_CHK\", \"TEACHER_QUEST\", \"TEACHER_CORR\", \"PUPIL_CORR\", \"PUPIL_STRIP\"]]\n",
        "Y = df.GRADE\n",
        "\n",
        "f1 = []\n",
        "accur = []\n",
        "precis = []\n",
        "rec = []"
      ]
    },
    {
      "cell_type": "code",
      "execution_count": 11,
      "metadata": {
        "colab": {
          "base_uri": "https://localhost:8080/"
        },
        "id": "xM2Na236xHHT",
        "outputId": "e1b345af-8091-4745-bc4d-687aaae97a80"
      },
      "outputs": [
        {
          "output_type": "stream",
          "name": "stdout",
          "text": [
            "F-мера :  0.6514328808446455\n",
            "Аккуратность :  0.6944444444444444\n",
            "Точность :  0.665625\n",
            "Полнота :  0.6493055555555556\n"
          ]
        }
      ],
      "source": [
        "X_train, X_test, y_train, y_test = train_test_split(X, Y, test_size = 0.5, train_size = 0.5)\n",
        "clf = RandomForestClassifier(n_estimators=50, oob_score=True)\n",
        "clf.fit(X_train, y_train)\n",
        "y_pred = clf.predict(X_test)\n",
        "\n",
        "f1.append(float(f1_score(y_test, y_pred,average='macro')))\n",
        "accur.append(float(accuracy_score(y_test, y_pred)))\n",
        "precis.append(float(precision_score(y_test, y_pred, average='macro')))\n",
        "rec.append(float(recall_score(y_test, y_pred, average='macro')))\n",
        "print(\"F-мера : \" , f1_score(y_test, y_pred,average='macro'))\n",
        "print(\"Аккуратность : \" , accuracy_score(y_test, y_pred))\n",
        "print(\"Точность : \" , precision_score(y_test, y_pred, average='macro'))\n",
        "print(\"Полнота : \" , recall_score(y_test, y_pred,average='macro'))"
      ]
    },
    {
      "cell_type": "code",
      "execution_count": 12,
      "metadata": {
        "colab": {
          "base_uri": "https://localhost:8080/"
        },
        "id": "E-Npw1mFDO8w",
        "outputId": "0a0acc79-6df6-4a27-9ecc-3ae438000849"
      },
      "outputs": [
        {
          "output_type": "stream",
          "name": "stdout",
          "text": [
            "F-мера :  0.5828733766233767\n",
            "Аккуратность :  0.6388888888888888\n",
            "Точность :  0.6727272727272727\n",
            "Полнота :  0.5850649350649351\n"
          ]
        }
      ],
      "source": [
        "X_train, X_test, y_train, y_test = train_test_split(X, Y, test_size = 0.5, train_size = 0.5)\n",
        "clf = RandomForestClassifier(n_estimators=60, oob_score=True)\n",
        "clf.fit(X_train, y_train)\n",
        "y_pred = clf.predict(X_test)\n",
        "\n",
        "f1.append(float(f1_score(y_test, y_pred,average='macro')))\n",
        "accur.append(float(accuracy_score(y_test, y_pred)))\n",
        "precis.append(float(precision_score(y_test, y_pred, average='macro')))\n",
        "rec.append(float(recall_score(y_test, y_pred, average='macro')))\n",
        "print(\"F-мера : \" , f1_score(y_test, y_pred,average='macro'))\n",
        "print(\"Аккуратность : \" , accuracy_score(y_test, y_pred))\n",
        "print(\"Точность : \" , precision_score(y_test, y_pred, average='macro'))\n",
        "print(\"Полнота : \" , recall_score(y_test, y_pred,average='macro'))"
      ]
    },
    {
      "cell_type": "code",
      "execution_count": 13,
      "metadata": {
        "colab": {
          "base_uri": "https://localhost:8080/"
        },
        "id": "gA0mMjd1DrQw",
        "outputId": "a72ff520-6def-4538-ef18-110c5bd1802d"
      },
      "outputs": [
        {
          "output_type": "stream",
          "name": "stdout",
          "text": [
            "F-мера :  0.6988011988011988\n",
            "Аккуратность :  0.6666666666666666\n",
            "Точность :  0.7332251082251082\n",
            "Полнота :  0.6979166666666666\n"
          ]
        }
      ],
      "source": [
        "X_train, X_test, y_train, y_test = train_test_split(X, Y, test_size = 0.5, train_size = 0.5)\n",
        "clf = RandomForestClassifier(n_estimators=70, oob_score=True)\n",
        "clf.fit(X_train, y_train)\n",
        "y_pred = clf.predict(X_test)\n",
        "\n",
        "f1.append(float(f1_score(y_test, y_pred,average='macro')))\n",
        "accur.append(float(accuracy_score(y_test, y_pred)))\n",
        "precis.append(float(precision_score(y_test, y_pred, average='macro')))\n",
        "rec.append(float(recall_score(y_test, y_pred, average='macro')))\n",
        "print(\"F-мера : \" , f1_score(y_test, y_pred,average='macro'))\n",
        "print(\"Аккуратность : \" , accuracy_score(y_test, y_pred))\n",
        "print(\"Точность : \" , precision_score(y_test, y_pred, average='macro'))\n",
        "print(\"Полнота : \" , recall_score(y_test, y_pred,average='macro'))"
      ]
    },
    {
      "cell_type": "code",
      "execution_count": 14,
      "metadata": {
        "colab": {
          "base_uri": "https://localhost:8080/"
        },
        "id": "QmNQRnWMDuOu",
        "outputId": "702f0962-90b7-459b-f55b-7a20d5f7f767"
      },
      "outputs": [
        {
          "output_type": "stream",
          "name": "stdout",
          "text": [
            "F-мера :  0.675186741363212\n",
            "Аккуратность :  0.7222222222222222\n",
            "Точность :  0.7829861111111112\n",
            "Полнота :  0.6755952380952381\n"
          ]
        }
      ],
      "source": [
        "X_train, X_test, y_train, y_test = train_test_split(X, Y, test_size = 0.5, train_size = 0.5)\n",
        "clf = RandomForestClassifier(n_estimators=80, oob_score=True)\n",
        "clf.fit(X_train, y_train)\n",
        "y_pred = clf.predict(X_test)\n",
        "\n",
        "f1.append(float(f1_score(y_test, y_pred,average='macro')))\n",
        "accur.append(float(accuracy_score(y_test, y_pred)))\n",
        "precis.append(float(precision_score(y_test, y_pred, average='macro')))\n",
        "rec.append(float(recall_score(y_test, y_pred, average='macro')))\n",
        "print(\"F-мера : \" , f1_score(y_test, y_pred,average='macro'))\n",
        "print(\"Аккуратность : \" , accuracy_score(y_test, y_pred))\n",
        "print(\"Точность : \" , precision_score(y_test, y_pred, average='macro'))\n",
        "print(\"Полнота : \" , recall_score(y_test, y_pred,average='macro'))"
      ]
    },
    {
      "cell_type": "code",
      "source": [
        "X_train, X_test, y_train, y_test = train_test_split(X, Y, test_size = 0.5, train_size = 0.5)\n",
        "clf = RandomForestClassifier(n_estimators=90, oob_score=True)\n",
        "clf.fit(X_train, y_train)\n",
        "y_pred = clf.predict(X_test)\n",
        "\n",
        "f1.append(float(f1_score(y_test, y_pred,average='macro')))\n",
        "accur.append(float(accuracy_score(y_test, y_pred)))\n",
        "precis.append(float(precision_score(y_test, y_pred, average='macro')))\n",
        "rec.append(float(recall_score(y_test, y_pred, average='macro')))\n",
        "print(\"F-мера : \" , f1_score(y_test, y_pred,average='macro'))\n",
        "print(\"Аккуратность : \" , accuracy_score(y_test, y_pred))\n",
        "print(\"Точность : \" , precision_score(y_test, y_pred, average='macro'))\n",
        "print(\"Полнота : \" , recall_score(y_test, y_pred,average='macro'))"
      ],
      "metadata": {
        "colab": {
          "base_uri": "https://localhost:8080/"
        },
        "id": "tS4yhtJvAPrC",
        "outputId": "b7453e8f-69d0-4d7b-9c80-99a5c3b87966"
      },
      "execution_count": 15,
      "outputs": [
        {
          "output_type": "stream",
          "name": "stdout",
          "text": [
            "F-мера :  0.6036111111111111\n",
            "Аккуратность :  0.6666666666666666\n",
            "Точность :  0.6666666666666666\n",
            "Полнота :  0.594047619047619\n"
          ]
        }
      ]
    },
    {
      "cell_type": "code",
      "execution_count": 16,
      "metadata": {
        "colab": {
          "base_uri": "https://localhost:8080/",
          "height": 850
        },
        "id": "WfK4ZUUkD5KP",
        "outputId": "06c8251b-e753-41c1-aaad-392dcd31f126"
      },
      "outputs": [
        {
          "output_type": "display_data",
          "data": {
            "text/plain": [
              "<Figure size 1000x1000 with 4 Axes>"
            ],
            "image/png": "[encoded data removed]"
          },
          "metadata": {}
        }
      ],
      "source": [
        "names = [\"50\", \"60\", \"70\", \"80\", \"90\"]\n",
        "\n",
        "pylab.figure(figsize=(10, 10))\n",
        "\n",
        "pylab.subplot (2, 2, 1)\n",
        "\n",
        "pylab.bar(names, f1)\n",
        "pylab.xlabel(\"Количество Ансамблей\")\n",
        "pylab.ylabel(\"F-мера\")\n",
        "\n",
        "pylab.subplot (2, 2, 2)\n",
        "\n",
        "pylab.bar(names, accur)\n",
        "pylab.xlabel(\"Количество Ансамблей\")\n",
        "pylab.ylabel(\"Аккуратность\")\n",
        "\n",
        "pylab.subplot (2, 2, 3)\n",
        "\n",
        "pylab.bar(names, precis)\n",
        "pylab.xlabel(\"Количество Ансамблей\")\n",
        "pylab.ylabel(\"Точность\")\n",
        "\n",
        "pylab.subplot (2, 2, 4)\n",
        "\n",
        "pylab.bar(names, rec)\n",
        "pylab.xlabel(\"Количество Ансамблей\")\n",
        "pylab.ylabel(\"Полнота\")\n",
        "\n",
        "pylab.show()"
      ]
    },
    {
      "cell_type": "code",
      "source": [],
      "metadata": {
        "id": "VfB3e9hbPFQE"
      },
      "execution_count": null,
      "outputs": []
    }
  ],
  "metadata": {
    "colab": {
      "provenance": [],
      "include_colab_link": true
    },
    "kernelspec": {
      "display_name": "Python 3 (ipykernel)",
      "language": "python",
      "name": "python3"
    },
    "language_info": {
      "codemirror_mode": {
        "name": "ipython",
        "version": 3
      },
      "file_extension": ".py",
      "mimetype": "text/x-python",
      "name": "python",
      "nbconvert_exporter": "python",
      "pygments_lexer": "ipython3",
      "version": "3.11.1"
    }
  },
  "nbformat": 4,
  "nbformat_minor": 0
}